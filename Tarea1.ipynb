{
  "nbformat": 4,
  "nbformat_minor": 0,
  "metadata": {
    "colab": {
      "provenance": [],
      "authorship_tag": "ABX9TyOObZSiOL93aVsPtKDRVL2G",
      "include_colab_link": true
    },
    "kernelspec": {
      "name": "python3",
      "display_name": "Python 3"
    },
    "language_info": {
      "name": "python"
    }
  },
  "cells": [
    {
      "cell_type": "markdown",
      "metadata": {
        "id": "view-in-github",
        "colab_type": "text"
      },
      "source": [
        "<a href=\"https://colab.research.google.com/github/DavidCondia/programacion-aplicada-Publico/blob/main/Tarea1.ipynb\" target=\"_parent\"><img src=\"https://colab.research.google.com/assets/colab-badge.svg\" alt=\"Open In Colab\"/></a>"
      ]
    },
    {
      "cell_type": "markdown",
      "source": [
        "# Codigo estudiante (David Condia), (solo para strings menor de 10 caracteres)"
      ],
      "metadata": {
        "id": "jYT23cXcbBKx"
      }
    },
    {
      "cell_type": "code",
      "execution_count": 8,
      "metadata": {
        "colab": {
          "base_uri": "https://localhost:8080/"
        },
        "id": "4PZ7DIiFRdO_",
        "outputId": "015d0c0d-d769-43e2-c62a-cd46d1bbce5c"
      },
      "outputs": [
        {
          "output_type": "stream",
          "name": "stdout",
          "text": [
            "000000hola\n"
          ]
        }
      ],
      "source": [
        "palabra=str(\"hola\")\n",
        "a = 10\n",
        "cantidadde0 = \"0\"*a \n",
        "print(cantidadde0[:a-len(palabra)]+ palabra)"
      ]
    },
    {
      "cell_type": "markdown",
      "source": [
        "# codigo del profe"
      ],
      "metadata": {
        "id": "rt1WAcMoYn0w"
      }
    },
    {
      "cell_type": "markdown",
      "source": [],
      "metadata": {
        "id": "Fg0NW6O-YlQy"
      }
    },
    {
      "cell_type": "code",
      "source": [
        "#txt = \"50\"\n",
        "\n",
        "#x = txt.zfill(10)\n",
        "\n",
        "#print(x)"
      ],
      "metadata": {
        "id": "x1IcADdTYr3w"
      },
      "execution_count": null,
      "outputs": []
    }
  ]
}